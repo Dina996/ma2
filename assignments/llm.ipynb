{
 "cells": [
  {
   "cell_type": "markdown",
   "metadata": {},
   "source": [
    "**AI & Machine Learning (KAN-CINTO4003U) - Copenhagen Business School | Spring 2025**\n",
    "\n",
    "***"
   ]
  },
  {
   "cell_type": "markdown",
   "metadata": {},
   "source": [
    "\n",
    "# Part III: LLM\n",
    "\n",
    "Please see the description of the assignment in the README file (section 3) <br>\n",
    "**Guide notebook**: [guides/llm_guide.ipynb](guides/llm_guide.ipynb)\n",
    "\n",
    "\n",
    "***\n",
    "\n",
    "<br>\n",
    "\n",
    "* Note that you should report results using a classification report. \n",
    "\n",
    "* Also, remember to include some reflections on your results: how do they compare with the results from Part I, BoW?, and part II, BERT? Are there any hyperparameters or prompting techniques that are particularly important?\n",
    "\n",
    "* You should follow the steps given in the `llm_guide` notebook\n",
    "\n",
    "<br>\n",
    "\n",
    "\n",
    "***"
   ]
  },
  {
   "cell_type": "code",
   "execution_count": 1,
   "metadata": {},
   "outputs": [
    {
     "name": "stdout",
     "output_type": "stream",
     "text": [
      "Requirement already satisfied: ibm-watsonx-ai in /opt/anaconda3/envs/aiml25-ma2/lib/python3.11/site-packages (1.3.0)\n",
      "Requirement already satisfied: requests in /opt/anaconda3/envs/aiml25-ma2/lib/python3.11/site-packages (from ibm-watsonx-ai) (2.32.2)\n",
      "Requirement already satisfied: httpx<=0.28,>=0.27 in /opt/anaconda3/envs/aiml25-ma2/lib/python3.11/site-packages (from ibm-watsonx-ai) (0.28.0)\n",
      "Requirement already satisfied: urllib3 in /opt/anaconda3/envs/aiml25-ma2/lib/python3.11/site-packages (from ibm-watsonx-ai) (2.3.0)\n",
      "Requirement already satisfied: pandas<2.2.0,>=0.24.2 in /opt/anaconda3/envs/aiml25-ma2/lib/python3.11/site-packages (from ibm-watsonx-ai) (2.1.4)\n",
      "Requirement already satisfied: certifi in /opt/anaconda3/envs/aiml25-ma2/lib/python3.11/site-packages (from ibm-watsonx-ai) (2025.1.31)\n",
      "Requirement already satisfied: lomond in /opt/anaconda3/envs/aiml25-ma2/lib/python3.11/site-packages (from ibm-watsonx-ai) (0.3.3)\n",
      "Requirement already satisfied: tabulate in /opt/anaconda3/envs/aiml25-ma2/lib/python3.11/site-packages (from ibm-watsonx-ai) (0.9.0)\n",
      "Requirement already satisfied: packaging in /opt/anaconda3/envs/aiml25-ma2/lib/python3.11/site-packages (from ibm-watsonx-ai) (24.2)\n",
      "Requirement already satisfied: ibm-cos-sdk<2.14.0,>=2.12.0 in /opt/anaconda3/envs/aiml25-ma2/lib/python3.11/site-packages (from ibm-watsonx-ai) (2.13.6)\n",
      "Requirement already satisfied: importlib-metadata in /opt/anaconda3/envs/aiml25-ma2/lib/python3.11/site-packages (from ibm-watsonx-ai) (8.6.1)\n",
      "Requirement already satisfied: anyio in /opt/anaconda3/envs/aiml25-ma2/lib/python3.11/site-packages (from httpx<=0.28,>=0.27->ibm-watsonx-ai) (4.8.0)\n",
      "Requirement already satisfied: httpcore==1.* in /opt/anaconda3/envs/aiml25-ma2/lib/python3.11/site-packages (from httpx<=0.28,>=0.27->ibm-watsonx-ai) (1.0.7)\n",
      "Requirement already satisfied: idna in /opt/anaconda3/envs/aiml25-ma2/lib/python3.11/site-packages (from httpx<=0.28,>=0.27->ibm-watsonx-ai) (3.10)\n",
      "Requirement already satisfied: h11<0.15,>=0.13 in /opt/anaconda3/envs/aiml25-ma2/lib/python3.11/site-packages (from httpcore==1.*->httpx<=0.28,>=0.27->ibm-watsonx-ai) (0.14.0)\n",
      "Requirement already satisfied: ibm-cos-sdk-core==2.13.6 in /opt/anaconda3/envs/aiml25-ma2/lib/python3.11/site-packages (from ibm-cos-sdk<2.14.0,>=2.12.0->ibm-watsonx-ai) (2.13.6)\n",
      "Requirement already satisfied: ibm-cos-sdk-s3transfer==2.13.6 in /opt/anaconda3/envs/aiml25-ma2/lib/python3.11/site-packages (from ibm-cos-sdk<2.14.0,>=2.12.0->ibm-watsonx-ai) (2.13.6)\n",
      "Requirement already satisfied: jmespath<=1.0.1,>=0.10.0 in /opt/anaconda3/envs/aiml25-ma2/lib/python3.11/site-packages (from ibm-cos-sdk<2.14.0,>=2.12.0->ibm-watsonx-ai) (1.0.1)\n",
      "Requirement already satisfied: python-dateutil<3.0.0,>=2.9.0 in /opt/anaconda3/envs/aiml25-ma2/lib/python3.11/site-packages (from ibm-cos-sdk-core==2.13.6->ibm-cos-sdk<2.14.0,>=2.12.0->ibm-watsonx-ai) (2.9.0.post0)\n",
      "Requirement already satisfied: numpy<2,>=1.23.2 in /opt/anaconda3/envs/aiml25-ma2/lib/python3.11/site-packages (from pandas<2.2.0,>=0.24.2->ibm-watsonx-ai) (1.26.4)\n",
      "Requirement already satisfied: pytz>=2020.1 in /opt/anaconda3/envs/aiml25-ma2/lib/python3.11/site-packages (from pandas<2.2.0,>=0.24.2->ibm-watsonx-ai) (2024.1)\n",
      "Requirement already satisfied: tzdata>=2022.1 in /opt/anaconda3/envs/aiml25-ma2/lib/python3.11/site-packages (from pandas<2.2.0,>=0.24.2->ibm-watsonx-ai) (2025.1)\n",
      "Requirement already satisfied: charset-normalizer<4,>=2 in /opt/anaconda3/envs/aiml25-ma2/lib/python3.11/site-packages (from requests->ibm-watsonx-ai) (3.4.1)\n",
      "Requirement already satisfied: zipp>=3.20 in /opt/anaconda3/envs/aiml25-ma2/lib/python3.11/site-packages (from importlib-metadata->ibm-watsonx-ai) (3.21.0)\n",
      "Requirement already satisfied: six>=1.10.0 in /opt/anaconda3/envs/aiml25-ma2/lib/python3.11/site-packages (from lomond->ibm-watsonx-ai) (1.17.0)\n",
      "Requirement already satisfied: sniffio>=1.1 in /opt/anaconda3/envs/aiml25-ma2/lib/python3.11/site-packages (from anyio->httpx<=0.28,>=0.27->ibm-watsonx-ai) (1.3.1)\n",
      "Requirement already satisfied: typing_extensions>=4.5 in /opt/anaconda3/envs/aiml25-ma2/lib/python3.11/site-packages (from anyio->httpx<=0.28,>=0.27->ibm-watsonx-ai) (4.12.2)\n",
      "Requirement already satisfied: python-decouple in /opt/anaconda3/envs/aiml25-ma2/lib/python3.11/site-packages (3.8)\n"
     ]
    }
   ],
   "source": [
    "!pip install --upgrade ibm-watsonx-ai\n",
    "!pip install python-decouple "
   ]
  },
  {
   "cell_type": "code",
   "execution_count": 2,
   "metadata": {},
   "outputs": [],
   "source": [
    "# imports for the project\n",
    "import pandas as pd\n",
    "from decouple import config, RepositoryEnv\n",
    "from ibm_watsonx_ai import APIClient \n",
    "from ibm_watsonx_ai import Credentials \n",
    "from ibm_watsonx_ai.foundation_models import ModelInference\n",
    "import os"
   ]
  },
  {
   "cell_type": "markdown",
   "metadata": {},
   "source": [
    "### 1. Load the data\n",
    "\n",
    "We can load this data directly from [Hugging Face Datasets](https://huggingface.co/docs/datasets/) - The HuggingFace Hub- into a Pandas DataFrame. Pretty neat!\n",
    "\n",
    "**Note**: This cell will download the dataset and keep it in memory. If you run this cell multiple times, it will download the dataset multiple times.\n",
    "\n",
    "You are welcome to increase the `frac` parameter to load more data."
   ]
  },
  {
   "cell_type": "code",
   "execution_count": null,
   "metadata": {},
   "outputs": [],
   "source": [
    "WX_API_KEY = config('WX_API_KEY')"
   ]
  },
  {
   "cell_type": "code",
   "execution_count": null,
   "metadata": {},
   "outputs": [],
   "source": [
    "\n",
    "splits = {'train': 'data/train-00000-of-00001.parquet', 'test': 'data/test-00000-of-00001.parquet'}\n",
    "# train = pd.read_parquet(\"hf://datasets/fancyzhx/ag_news/\" + splits[\"train\"])\n",
    "test = pd.read_parquet(\"hf://datasets/fancyzhx/ag_news/\" + splits[\"test\"])"
   ]
  },
  {
   "cell_type": "code",
   "execution_count": null,
   "metadata": {},
   "outputs": [],
   "source": [
    "label_map = {\n",
    "    0: 'World',\n",
    "    1: 'Sports',\n",
    "    2: 'Business',\n",
    "    3: 'Sci/Tech'\n",
    "}\n",
    "\n",
    "def preprocess(df: pd.DataFrame, frac = 1e-2, label_map = label_map, seed=42) -> pd.DataFrame:\n",
    "    return  (\n",
    "        df\n",
    "        .assign(label=lambda x: x['label'].map(label_map))\n",
    "        [lambda df: df['label'].isin(label_map.values())]\n",
    "        .groupby('label')\n",
    "        .apply(lambda x: x.sample(frac=frac, random_state=seed))\n",
    "        .reset_index(drop=True)\n",
    "\n",
    "    )\n",
    "\n",
    "# train_df = preprocess(train, frac=0.01)\n",
    "test_df = preprocess(test, frac=0.1)\n",
    "\n",
    "# clear up some memory by deleting the original dataframes\n",
    "# del train\n",
    "del test\n",
    "\n",
    "test_df.shape, # train_df.shape, "
   ]
  }
 ],
 "metadata": {
  "kernelspec": {
   "display_name": "Python 3.11.11 ('aiml25-ma2')",
   "language": "python",
   "name": "python3"
  },
  "language_info": {
   "codemirror_mode": {
    "name": "ipython",
    "version": 3
   },
   "file_extension": ".py",
   "mimetype": "text/x-python",
   "name": "python",
   "nbconvert_exporter": "python",
   "pygments_lexer": "ipython3",
   "version": "3.11.11"
  },
  "vscode": {
   "interpreter": {
    "hash": "28f48453429376107ca9109bef082690e90d8ffd8f5b950883a8a6e2a12a44a2"
   }
  }
 },
 "nbformat": 4,
 "nbformat_minor": 2
}
